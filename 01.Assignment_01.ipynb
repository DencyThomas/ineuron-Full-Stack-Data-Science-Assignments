{
 "cells": [
  {
   "cell_type": "markdown",
   "metadata": {},
   "source": [
    "# Assignment 1 Solutions"
   ]
  },
  {
   "cell_type": "markdown",
   "metadata": {},
   "source": [
    "#### 1. In the below elements which of them are values or an expression? **eg:-** values can be integer or string and expressions will be mathematical operators.  \n",
    "`*`,`'hello'`, -87.8,`-`,`/`,`+`,6\n",
    "\n",
    "**Ans:** There are a total of 4 Operators and 3 Expressions, They are:  \n",
    "**Expressions/Mathematical Operators:** `*`,`-`,`/`,`+`  \n",
    "**Values:** `'hello'`, `87.8`, `6`\n",
    "    where\n",
    "\n",
    "    \"hello\" is string\n",
    "    -87.8 is float\n",
    "    6 is int data type"
   ]
  },
  {
   "cell_type": "markdown",
   "metadata": {},
   "source": [
    "#### 2. What is the difference between string and variable?\n",
    "**Ans:** A Variable is a named location used to store data in memory, and a String is a data type of information you would store in a Variable. A String is a collection of characters or a single character usually enclosed in Double quotes `\" \"` or single quotes `' '`\n"
   ]
  },
  {
   "cell_type": "code",
   "execution_count": 2,
   "metadata": {},
   "outputs": [
    {
     "data": {
      "text/plain": [
       "str"
      ]
     },
     "execution_count": 2,
     "metadata": {},
     "output_type": "execute_result"
    }
   ],
   "source": [
    "var=\"Dency\"\n",
    "type(var)"
   ]
  },
  {
   "cell_type": "markdown",
   "metadata": {},
   "source": [
    "#### 3. Describe three different Data Types ?\n",
    "**Ans:** Three fundamental Data types in python are `int`, `float`, `complex`.\n",
    "1. **int data type**: We can use int data type to represent whole numbers =ve/-ve\n",
    "2. **float data type**: We can use float data type to represent floating point values (decimal values) =ve/-ve\n",
    "3. **complex data type**: Complex number is represented by (real part) +/- (imaginary part)j.\n",
    "\n",
    "Apart from these we have following data types as well- `string`,`list`,`tuple`, `dictionary` and `sets`.\n",
    "\n",
    "4. **string data type**: We can use string data type to represent collection of characters in double or single quotes\n",
    "5. **list data type**: We can use list data type to represent collection of homogeneous or heterogeneous elements in square brackets. These are ordered, mutable data type.\n",
    "6. **tuples data type**: We can use tuples data type to represent collection of homogeneous or heterogeneous elements in parantheses. These are ordered, immutable data type.\n",
    "7. **dictionary data type**: We can use dictionary data type to represent collection of homogeneous or heterogeneous elements in curly braces. The elements are in the form of key:value pair. These are unordered, mutable data type.\n",
    "8. **sets data type**: We can use set data type to represent collection of homogeneous or heterogeneous elements in curly braces. These are unordered, mutable data type."
   ]
  },
  {
   "cell_type": "code",
   "execution_count": 18,
   "metadata": {},
   "outputs": [
    {
     "name": "stdout",
     "output_type": "stream",
     "text": [
      "-1992 <class 'int'>\n",
      "-1.444 <class 'float'>\n",
      "(10-1.6j) <class 'complex'>\n",
      "Happy Learning! <class 'str'>\n",
      "[10, 1, 6, (10, 1, 6)] <class 'list'>\n",
      "(10, 1, 6) <class 'tuple'>\n",
      "{102: 1} <class 'dict'>\n",
      "{1, 2, 3} <class 'set'>\n"
     ]
    }
   ],
   "source": [
    "# Example for int data type\n",
    "a=-1992\n",
    "print(a, type(a))\n",
    "# Example for float data type\n",
    "b=-1.444\n",
    "print(b, type(b))\n",
    "# Example for Complex data type\n",
    "c=10-1.6j\n",
    "print(c, type(c))\n",
    "# Example for String data type\n",
    "d=\"Happy Learning!\"\n",
    "print(d, type(d))\n",
    "# Example for List data type\n",
    "e=[10,1,6,(10,1,6)]\n",
    "print(e, type(e))\n",
    "# Example for tuple data type\n",
    "f=(10,1,6)\n",
    "print(f, type(f))\n",
    "# Example for Dictionary data type\n",
    "g={102:1,102:1}\n",
    "print(g, type(g))\n",
    "# Example for Sets data type\n",
    "h={1,2,3}\n",
    "print(h, type(h))"
   ]
  },
  {
   "cell_type": "markdown",
   "metadata": {},
   "source": [
    "#### 4. What is an expression made up of? What do all expressions do?\n",
    "**Ans:** An expression is a combination of values, variables, operators, and calls to functions.\n",
    "    Expressions need to be evaluated. If we ask Python to print an expression, the interpreter \n",
    "    evaluates the expression and displays the result."
   ]
  },
  {
   "cell_type": "code",
   "execution_count": 4,
   "metadata": {},
   "outputs": [
    {
     "data": {
      "text/plain": [
       "0"
      ]
     },
     "execution_count": 4,
     "metadata": {},
     "output_type": "execute_result"
    }
   ],
   "source": [
    "6+2-8# Is an Expression, The Python Interpreter Evaluates it to 0"
   ]
  },
  {
   "cell_type": "markdown",
   "metadata": {},
   "source": [
    "#### 5.This assignment statements, like spam = 10. What is the difference between an expression and a statement?\n",
    "**Ans:** An expression is a combination of values, variables, and math operators.When we type an expression at the prompt, \n",
    "the interpreter evaluates it, which means that it finds the value of the expression and prints it.\n",
    "\n",
    "**eg:** 4*5+20-40 is an example of an expression\n",
    "\n",
    "A statement is a unit of code that has an effect, like declaring a variable.When we type a statement,\n",
    "the interpreter executes it, which means that it does whatever the statement says.\n",
    "\n",
    "**eg:** assignment statement, print statement, conditional statement, looping statement"
   ]
  },
  {
   "cell_type": "code",
   "execution_count": 5,
   "metadata": {},
   "outputs": [
    {
     "name": "stdout",
     "output_type": "stream",
     "text": [
      "Hello World !\n",
      "It must be good\n",
      "value of x is: 2\n",
      "value of x is: 1\n"
     ]
    }
   ],
   "source": [
    "#Example:\n",
    "6+2-8 # Is a Expression\n",
    "courseName = 'ineuron FullStack Data Science' # Is an Assignment Statement\n",
    "print(\"Hello World !\") # Is a Print Statement\n",
    "if(courseName == 'ineuron FullStack Data Science'): # Is a Conditional Statement\n",
    "    print(\"It must be good\")\n",
    "x=2\n",
    "while(x!=0): # Is a Loop statement\n",
    "    print(\"value of x is:\", x)\n",
    "    x=x-1"
   ]
  },
  {
   "cell_type": "markdown",
   "metadata": {},
   "source": [
    "#### 6.After running the following code, what does the variable bacon contain?\n",
    "`bacon = 22`  \n",
    "`bacon + 1`\n",
    "\n",
    "**Ans:** The variable `bacon` is set to `22` .The expression `bacon + 1` does not reassign the value in\n",
    "bacon (that would the case if the expression is like `bacon = bacon + 1` instead of `bacon + 1`)"
   ]
  },
  {
   "cell_type": "code",
   "execution_count": 6,
   "metadata": {},
   "outputs": [
    {
     "name": "stdout",
     "output_type": "stream",
     "text": [
      "22\n"
     ]
    }
   ],
   "source": [
    "# Code in question\n",
    "bacon=22\n",
    "bacon+1\n",
    "print(bacon)"
   ]
  },
  {
   "cell_type": "code",
   "execution_count": 7,
   "metadata": {},
   "outputs": [
    {
     "name": "stdout",
     "output_type": "stream",
     "text": [
      "23\n"
     ]
    }
   ],
   "source": [
    "# Code modified to increment by 1\n",
    "bacon=22\n",
    "bacon=bacon+1 \n",
    "print(bacon)"
   ]
  },
  {
   "cell_type": "markdown",
   "metadata": {},
   "source": [
    "#### 7.What should the values of the following two terms be?  \n",
    "`'spam'+'spamspam'`  \n",
    "`'spam'*3`\n",
    "\n",
    "**Ans:** Both expressions result in same string output**`'spamspamspam'`**\n",
    "Where as the first expression is an example of `String Concatenation` and the second expression is an example of `String Multiplication`"
   ]
  },
  {
   "cell_type": "code",
   "execution_count": 8,
   "metadata": {},
   "outputs": [
    {
     "name": "stdout",
     "output_type": "stream",
     "text": [
      "spamspamspam\n",
      "spamspamspam\n"
     ]
    }
   ],
   "source": [
    "print('spam'+'spamspam') # string concatenation\n",
    "print('spam'*3) # string multiplication"
   ]
  },
  {
   "cell_type": "markdown",
   "metadata": {},
   "source": [
    "#### 8. Why is eggs a valid variable name while 100 is invalid?\n",
    "**Ans:** The python rules for naming a variable are :- \n",
    "1. Variable name must start with a letter or the underscore character.and must never start with a number\n",
    "2. Variable name can only contain alpha-numeric characters and underscores (A-z, 0-9, _ ).\n",
    "3. Variable names are case-sensitive (name, `INEURON` and `ineuron` are two different variables).\n",
    "4. The reserved words(keywords) cannot be used as normal identifier or variable names."
   ]
  },
  {
   "cell_type": "code",
   "execution_count": 9,
   "metadata": {},
   "outputs": [
    {
     "ename": "SyntaxError",
     "evalue": "cannot assign to literal here. Maybe you meant '==' instead of '='? (3634917690.py, line 2)",
     "output_type": "error",
     "traceback": [
      "\u001b[1;36m  Cell \u001b[1;32mIn[9], line 2\u001b[1;36m\u001b[0m\n\u001b[1;33m    100='hello' # Invalid Variable Initilization\u001b[0m\n\u001b[1;37m    ^\u001b[0m\n\u001b[1;31mSyntaxError\u001b[0m\u001b[1;31m:\u001b[0m cannot assign to literal here. Maybe you meant '==' instead of '='?\n"
     ]
    }
   ],
   "source": [
    "egg='Ineuron' # Valid variable Initilization\n",
    "100='hello' # Invalid Variable Initilization\n",
    "print(egg) #prints the value of egg ie Ineuron\n",
    "print(100) # Raises a Syntax Error as 100 is not a valid variable name"
   ]
  },
  {
   "cell_type": "markdown",
   "metadata": {},
   "source": [
    "**9.What three functions can be used to get the integer,floating-point number,or string version of a value?**\n",
    "\n",
    "**Ans:** Though Python dynamically assigns data type of information stored in the variable at the time of declaration of the variable itself, however we may want to assign a different data type to a variable. This is called typecasting. The `int()`,`float()`,and `str()` functions will result in the integer,floating-point number,string version of the value passed to them."
   ]
  },
  {
   "cell_type": "code",
   "execution_count": 10,
   "metadata": {},
   "outputs": [
    {
     "name": "stdout",
     "output_type": "stream",
     "text": [
      "int(10.0) ->  10\n",
      "float(10) ->  10.0\n",
      "str(10) ->  10\n"
     ]
    }
   ],
   "source": [
    "# Examples:\n",
    "print('int(10.0) -> ',int(10.0)) # int() function converts given input to int\n",
    "print('float(10) -> ',float(10)) # float() function converts given input to float\n",
    "print('str(10) -> ',str(10)) # str() function converts given input to string"
   ]
  },
  {
   "cell_type": "markdown",
   "metadata": {},
   "source": [
    "#### 10.Why does this expression cause an error? how can you fix it?  \n",
    "`'I have eaten ' + 99 + 'burritos.'`\n",
    "\n",
    "**Ans:** This cause of error is 99.because 99 is not a string. 99 must be typecasted to a string to fix this error. the correct way is:  \n",
    "**Input:** `'I have eaten ' + str(99) + ' burritos.'`  \n",
    "**Output:** `'I have eaten 99 burritos.'`"
   ]
  },
  {
   "cell_type": "code",
   "execution_count": 11,
   "metadata": {},
   "outputs": [
    {
     "name": "stdout",
     "output_type": "stream",
     "text": [
      "I have eaten 99 burritos\n"
     ]
    }
   ],
   "source": [
    "print('I have eaten '+str(99)+' burritos')"
   ]
  }
 ],
 "metadata": {
  "kernelspec": {
   "display_name": "Python 3 (ipykernel)",
   "language": "python",
   "name": "python3"
  },
  "language_info": {
   "codemirror_mode": {
    "name": "ipython",
    "version": 3
   },
   "file_extension": ".py",
   "mimetype": "text/x-python",
   "name": "python",
   "nbconvert_exporter": "python",
   "pygments_lexer": "ipython3",
   "version": "3.10.9"
  }
 },
 "nbformat": 4,
 "nbformat_minor": 4
}
